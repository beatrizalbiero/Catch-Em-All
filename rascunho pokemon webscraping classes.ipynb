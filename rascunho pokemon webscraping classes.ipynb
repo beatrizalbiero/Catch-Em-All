{
 "cells": [
  {
   "cell_type": "code",
   "execution_count": null,
   "metadata": {
    "collapsed": true
   },
   "outputs": [],
   "source": [
    "class Pokemon:\n",
    "    def __init__(self,driver):\n",
    "        self.driver = driver\n",
    "        self.url = 'http://www.serebii.net/'\n",
    "\n",
    "    def navigate(self):\n",
    "        import time\n",
    "        self.driver.get(self.url)\n",
    "        self.driver.implicitly_wait(2)\n",
    "\n",
    "\n",
    "    def scrape(self):\n",
    "        self.navigate()\n",
    "        self.driver.find_element_by_xpath('//*[@id=\"menu\"]/a[9]').click()\n",
    "        currentURL = self.driver.current_url\n",
    "        menu = Select(self.driver.find_element_by_xpath('/html/body/table[2]/tbody/tr[2]/td[2]/font/div[3]/table/tbody/tr[1]/td[1]/form/select'))\n",
    "        self.driver.implicitly_wait(3) # seconds\n",
    "        options = iter(menu.options)\n",
    "        next(options)\n",
    "        for option in options:\n",
    "            pokemon_url = option.get_attribute('value')\n",
    "            browser.get(self.url + pokemon_url)\n",
    "            break"
   ]
  },
  {
   "cell_type": "code",
   "execution_count": null,
   "metadata": {
    "collapsed": true
   },
   "outputs": [],
   "source": []
  }
 ],
 "metadata": {
  "kernelspec": {
   "display_name": "Python 3",
   "language": "python",
   "name": "python3"
  },
  "language_info": {
   "codemirror_mode": {
    "name": "ipython",
    "version": 3
   },
   "file_extension": ".py",
   "mimetype": "text/x-python",
   "name": "python",
   "nbconvert_exporter": "python",
   "pygments_lexer": "ipython3",
   "version": "3.6.3"
  }
 },
 "nbformat": 4,
 "nbformat_minor": 2
}
